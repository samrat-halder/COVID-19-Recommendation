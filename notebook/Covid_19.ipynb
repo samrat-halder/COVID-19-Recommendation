{
  "nbformat": 4,
  "nbformat_minor": 0,
  "metadata": {
    "colab": {
      "name": "Covid-19.ipynb",
      "provenance": [],
      "collapsed_sections": []
    },
    "kernelspec": {
      "name": "python3",
      "display_name": "Python 3"
    }
  },
  "cells": [
    {
      "cell_type": "markdown",
      "metadata": {
        "id": "mrGgV2YUWIM0",
        "colab_type": "text"
      },
      "source": [
        "## Import libraries"
      ]
    },
    {
      "cell_type": "code",
      "metadata": {
        "id": "0Q5IL5A6gZgr",
        "colab_type": "code",
        "colab": {}
      },
      "source": [
        "%pip install bert-extractive-summarizer\n",
        "%pip install spacy\n",
        "%pip install transformers==2.2.0"
      ],
      "execution_count": 0,
      "outputs": []
    },
    {
      "cell_type": "code",
      "metadata": {
        "id": "SpW40gC8sUWQ",
        "colab_type": "code",
        "colab": {
          "base_uri": "https://localhost:8080/",
          "height": 34
        },
        "outputId": "71d6982b-24a0-4d98-aaca-004e459d1f9c"
      },
      "source": [
        "from google.colab import drive\n",
        "from google.colab import files\n",
        "\n",
        "import os\n",
        "import json\n",
        "import numpy as np\n",
        "import pandas as pd\n",
        "import pickle\n",
        "\n",
        "import tensorflow as tf\n",
        "import tensorflow_hub as hub\n",
        "from summarizer import Summarizer\n",
        "import spacy\n",
        "from spacy.lang.en import English\n",
        "from spacy import displacy\n",
        "\n",
        "from IPython.display import HTML\n",
        "import logging\n",
        "\n",
        "from sklearn import preprocessing\n",
        "from sklearn.decomposition import PCA\n",
        "from sklearn.manifold import TSNE\n",
        "from sklearn.metrics.pairwise import cosine_similarity\n",
        "\n",
        "import plotly.graph_objs as go\n",
        "from plotly.offline import download_plotlyjs, init_notebook_mode, plot, iplot\n",
        "\n",
        "from IPython.display import HTML\n",
        "\n",
        "logging.getLogger('tensorflow').disabled = True\n",
        "drive.mount('/content/drive')\n",
        "os.chdir(\"/content/drive/My Drive/Colab Notebooks/COVID-2020-03-13\")\n",
        "\n",
        "nlp = spacy.load('en_core_web_sm')"
      ],
      "execution_count": 27,
      "outputs": [
        {
          "output_type": "display_data",
          "data": {
            "text/html": [
              "\n",
              "<style>\n",
              "  pre {\n",
              "      white-space: normal;\n",
              "  }\n",
              "</style>\n"
            ],
            "text/plain": [
              "<IPython.core.display.HTML object>"
            ]
          },
          "metadata": {
            "tags": []
          }
        },
        {
          "output_type": "stream",
          "text": [
            "Drive already mounted at /content/drive; to attempt to forcibly remount, call drive.mount(\"/content/drive\", force_remount=True).\n"
          ],
          "name": "stdout"
        }
      ]
    },
    {
      "cell_type": "markdown",
      "metadata": {
        "id": "voK4ZfBkRemz",
        "colab_type": "text"
      },
      "source": [
        "## Load Data"
      ]
    },
    {
      "cell_type": "code",
      "metadata": {
        "id": "2ibHilVzsxlB",
        "colab_type": "code",
        "colab": {}
      },
      "source": [
        "data_c = pd.read_csv('all_sources_metadata_2020-03-13.csv')\n",
        "data_c = data_c[['sha', 'Microsoft Academic Paper ID', \n",
        "                 'WHO #Covidence', 'title', 'abstract']]\n",
        "\n",
        "subdirs = ['./biorxiv_medrxiv/biorxiv_medrxiv/', './comm_use_subset/comm_use_subset/', './noncomm_use_subset/noncomm_use_subset/',\n",
        "           './pmc_custom_license/pmc_custom_license/']"
      ],
      "execution_count": 0,
      "outputs": []
    },
    {
      "cell_type": "markdown",
      "metadata": {
        "id": "CtfPOQgaUhvf",
        "colab_type": "text"
      },
      "source": [
        "## Keep articles that is related to corona virus"
      ]
    },
    {
      "cell_type": "code",
      "metadata": {
        "id": "L-zoD8cOtmLP",
        "colab_type": "code",
        "colab": {
          "base_uri": "https://localhost:8080/",
          "height": 122
        },
        "outputId": "e81480e5-2349-4f8c-e937-d627ca7ad8ad"
      },
      "source": [
        "keywords = ['corona', 'covid', 'covid-19', 'covid-2019', \n",
        "            'coronavirus', 'ncov', 'sars-cov-2', 'ncov-2019', '2019-ncov']\n",
        "data_c = data_c[data_c['title'].notna()]\n",
        "data_c['abstract'] = data_c['abstract'].str.lower()\n",
        "data_c['flagCol'] = np.where(data_c.abstract.str.contains('|'.join(keywords)),1,0)\n",
        "data_c = data_c[data_c['flagCol'] == 1]\n",
        "sentences = data_c['title'].tolist()\n",
        "data_c['title'][0:5].tolist()"
      ],
      "execution_count": 5,
      "outputs": [
        {
          "output_type": "execute_result",
          "data": {
            "text/plain": [
              "['Angiotensin-converting enzyme 2 (ACE2) as a SARS-CoV-2 receptor: molecular mechanisms and potential therapeutic target',\n",
              " 'Comparative genetic analysis of the novel coronavirus (2019-nCoV/SARS-CoV-2) receptor ACE2 in different populations',\n",
              " 'Incubation Period and Other Epidemiological Characteristics of 2019 Novel Coronavirus Infections with Right Truncation: A Statistical Analysis of Publicly Available Case Data',\n",
              " 'Characteristics of and Public Health Responses to the Coronavirus Disease 2019 Outbreak in China',\n",
              " 'Imaging changes in severe COVID-19 pneumonia']"
            ]
          },
          "metadata": {
            "tags": []
          },
          "execution_count": 5
        }
      ]
    },
    {
      "cell_type": "markdown",
      "metadata": {
        "id": "5CqxZovVTSU7",
        "colab_type": "text"
      },
      "source": [
        "We find the number of papers related to COVID-19 are actually 30% of all the documents"
      ]
    },
    {
      "cell_type": "code",
      "metadata": {
        "id": "gDGb8pDgwx7d",
        "colab_type": "code",
        "colab": {
          "base_uri": "https://localhost:8080/",
          "height": 34
        },
        "outputId": "61fa7850-a3e7-4b6c-994c-8c201cb4bb00"
      },
      "source": [
        "print(f'Number of Corona Virus related documents {len(sentences)}')"
      ],
      "execution_count": 6,
      "outputs": [
        {
          "output_type": "stream",
          "text": [
            "Number of Corona Virus related documents 8061\n"
          ],
          "name": "stdout"
        }
      ]
    },
    {
      "cell_type": "markdown",
      "metadata": {
        "id": "QqTnQC7jgjZZ",
        "colab_type": "text"
      },
      "source": [
        "## Import ELMO from tensorhub"
      ]
    },
    {
      "cell_type": "code",
      "metadata": {
        "id": "xgtOuLp5t1yO",
        "colab_type": "code",
        "colab": {}
      },
      "source": [
        "url = \"https://tfhub.dev/google/elmo/2\"\n",
        "embed = hub.Module(url)"
      ],
      "execution_count": 0,
      "outputs": []
    },
    {
      "cell_type": "markdown",
      "metadata": {
        "id": "8pjERoA_gpys",
        "colab_type": "text"
      },
      "source": [
        "## Clean text"
      ]
    },
    {
      "cell_type": "code",
      "metadata": {
        "id": "lgf4K6UeuK1L",
        "colab_type": "code",
        "colab": {}
      },
      "source": [
        "cleaned_sent = []\n",
        "for text in sentences:\n",
        "  text = text.lower().replace('\\n', ' ').replace('\\t', ' ')\n",
        "  text = ' '.join(text.split())\n",
        "  cleaned_sent.append(text)"
      ],
      "execution_count": 0,
      "outputs": []
    },
    {
      "cell_type": "code",
      "metadata": {
        "id": "SVpdoVvpwcns",
        "colab_type": "code",
        "colab": {
          "base_uri": "https://localhost:8080/",
          "height": 122
        },
        "outputId": "7d8e6ff4-3eb1-41e0-db63-47fb4e86d9bd"
      },
      "source": [
        "cleaned_sent[0:5]"
      ],
      "execution_count": 9,
      "outputs": [
        {
          "output_type": "execute_result",
          "data": {
            "text/plain": [
              "['angiotensin-converting enzyme 2 (ace2) as a sars-cov-2 receptor: molecular mechanisms and potential therapeutic target',\n",
              " 'comparative genetic analysis of the novel coronavirus (2019-ncov/sars-cov-2) receptor ace2 in different populations',\n",
              " 'incubation period and other epidemiological characteristics of 2019 novel coronavirus infections with right truncation: a statistical analysis of publicly available case data',\n",
              " 'characteristics of and public health responses to the coronavirus disease 2019 outbreak in china',\n",
              " 'imaging changes in severe covid-19 pneumonia']"
            ]
          },
          "metadata": {
            "tags": []
          },
          "execution_count": 9
        }
      ]
    },
    {
      "cell_type": "code",
      "metadata": {
        "id": "i9PSc1A2XjMW",
        "colab_type": "code",
        "colab": {}
      },
      "source": [
        "f = open('topic_embeddings.pkl','wb')\n",
        "#pickle.dump(x, f)\n",
        "x = pickle.load('topic_embeddings.pkl', 'rb')\n",
        "f.close()"
      ],
      "execution_count": 0,
      "outputs": []
    },
    {
      "cell_type": "markdown",
      "metadata": {
        "id": "5kajbwqtZS7p",
        "colab_type": "text"
      },
      "source": [
        "## Creating embeddings for topics with ELMO"
      ]
    },
    {
      "cell_type": "code",
      "metadata": {
        "id": "Bk4UHCriw6pX",
        "colab_type": "code",
        "colab": {}
      },
      "source": [
        "if not x:\n",
        "  x = []\n",
        "  for i in range(0, len(sentences), 400): \n",
        "    print(f'Creating embeddings for article {i} to {i+400}')\n",
        "    embeddings = embed(\n",
        "        cleaned_sent[i:i+400],\n",
        "        signature=\"default\",\n",
        "        as_dict=True)[\"default\"]\n",
        "    with tf.Session() as sess:\n",
        "      sess.run(tf.global_variables_initializer())\n",
        "      sess.run(tf.tables_initializer())\n",
        "      x.append(sess.run(embeddings))"
      ],
      "execution_count": 0,
      "outputs": []
    },
    {
      "cell_type": "markdown",
      "metadata": {
        "id": "nFvOwHQOvXsv",
        "colab_type": "text"
      },
      "source": [
        "## PCA and t-SNE to visualize the document similarities"
      ]
    },
    {
      "cell_type": "code",
      "metadata": {
        "id": "1fsh31cdxLse",
        "colab_type": "code",
        "colab": {}
      },
      "source": [
        "x = np.vstack(x)\n",
        "pca = PCA(n_components=50)\n",
        "y = pca.fit_transform(x)\n",
        "y = TSNE(n_components=2).fit_transform(y)"
      ],
      "execution_count": 0,
      "outputs": []
    },
    {
      "cell_type": "code",
      "metadata": {
        "id": "jyjPyGWcxicO",
        "colab_type": "code",
        "colab": {
          "base_uri": "https://localhost:8080/",
          "height": 17
        },
        "outputId": "5368184a-7d8e-4d25-fd8b-d6c33532a340"
      },
      "source": [
        "init_notebook_mode(connected=True)\n",
        "data = [\n",
        "    go.Scatter(\n",
        "        x=[i[0] for i in y],\n",
        "        y=[i[1] for i in y],\n",
        "        mode='markers',\n",
        "        text=[i for i in sentences],\n",
        "    marker=dict(\n",
        "        size=5,\n",
        "        color = [len(i) for i in sentences],\n",
        "        opacity= 0.2,\n",
        "        colorscale='Viridis',\n",
        "        showscale=False\n",
        "    )\n",
        "    )\n",
        "]\n",
        "layout = go.Layout()\n",
        "layout = dict(\n",
        "              yaxis = dict(zeroline = True),\n",
        "              xaxis = dict(zeroline = True)\n",
        "             )\n",
        "fig = go.Figure(data=data, layout=layout)\n",
        "file = plot(fig, filename='COVID Paper encode.html')\n",
        "\n",
        "files.download('COVID Paper encode.html') "
      ],
      "execution_count": 16,
      "outputs": [
        {
          "output_type": "display_data",
          "data": {
            "text/html": [
              "        <script type=\"text/javascript\">\n",
              "        window.PlotlyConfig = {MathJaxConfig: 'local'};\n",
              "        if (window.MathJax) {MathJax.Hub.Config({SVG: {font: \"STIX-Web\"}});}\n",
              "        if (typeof require !== 'undefined') {\n",
              "        require.undef(\"plotly\");\n",
              "        requirejs.config({\n",
              "            paths: {\n",
              "                'plotly': ['https://cdn.plot.ly/plotly-latest.min']\n",
              "            }\n",
              "        });\n",
              "        require(['plotly'], function(Plotly) {\n",
              "            window._Plotly = Plotly;\n",
              "        });\n",
              "        }\n",
              "        </script>\n",
              "        "
            ]
          },
          "metadata": {
            "tags": []
          }
        }
      ]
    },
    {
      "cell_type": "markdown",
      "metadata": {
        "id": "Px1pEhekvjG3",
        "colab_type": "text"
      },
      "source": [
        "## Enter search queries to find most related papers"
      ]
    },
    {
      "cell_type": "code",
      "metadata": {
        "id": "g119VQQWzT2E",
        "colab_type": "code",
        "colab": {
          "base_uri": "https://localhost:8080/",
          "height": 504
        },
        "cellView": "form",
        "outputId": "7079307b-08c2-4f00-dae2-d00e5c44c896"
      },
      "source": [
        "#@title Find most related articles\n",
        "#@markdown Enter a query to find matching topics. 'results_returned' can be used to modify the number of matching topics. \n",
        "query = \"What has been published about ethical and social science considerations?\" #@param {type:\"string\"}\n",
        "results_returned = \"10\" #@param [1, 2, 3, 4, 5, 10]\n",
        "\n",
        "data_c.reset_index(drop=True, inplace=True)\n",
        "embeddings2 = embed(\n",
        "    [query],\n",
        "    signature=\"default\",\n",
        "    as_dict=True)[\"default\"]\n",
        "\n",
        "with tf.Session() as sess:\n",
        "  sess.run(tf.global_variables_initializer())\n",
        "  sess.run(tf.tables_initializer())\n",
        "  search_vect = sess.run(embeddings2)\n",
        "  \n",
        "cosine_similarities = pd.Series(cosine_similarity(search_vect, x).flatten())\n",
        "doc_id = []\n",
        "output =\"\"\n",
        "for k,j in cosine_similarities.nlargest(int(results_returned)).iteritems():\n",
        "  output +='<p style=\"font-family:verdana; font-size:110%;\"> '\n",
        "  for i in sentences[k].split():\n",
        "    if i.lower() in query:\n",
        "      output += \" <b>\"+str(i)+\"</b>\"\n",
        "    else:\n",
        "      output += \" \"+str(i)\n",
        "  output += \"  || SHA Doc Id \" + str(data_c['sha'][k]) #+ str(k)\n",
        "  output += \"</p><hr>\"\n",
        "  doc_id.append(k)\n",
        "    \n",
        "output = '<h3>Results:</h3>'+output\n",
        "display(HTML(output))"
      ],
      "execution_count": 42,
      "outputs": [
        {
          "output_type": "display_data",
          "data": {
            "text/html": [
              "<h3>Results:</h3><p style=\"font-family:verdana; font-size:110%;\">  What Have We Learned <b>About</b> Middle East Respiratory Syndrome Coronavirus Emergence in Humans? <b>A</b> Systematic Literature Review  || SHA Doc Id 70fd2c4e38970a59c42925daef90f674d7b21302</p><hr><p style=\"font-family:verdana; font-size:110%;\">  Bioethics in Practice - <b>A</b> Quarterly Column <b>About</b> Medical Ethics: Ebola <b>and</b> Medical Ethics - <b>Ethical</b> Challenges in the Management of Contagious Infectious Diseases  || SHA Doc Id nan</p><hr><p style=\"font-family:verdana; font-size:110%;\">  What incentives increase data sharing in health <b>and</b> medical research? <b>A</b> systematic review  || SHA Doc Id 6275144a4a4a08d1c72f3c52109ac757c72e6424</p><hr><p style=\"font-family:verdana; font-size:110%;\">  What we know <b>so</b> far: COVID-19 current clinical knowledge <b>and</b> research  || SHA Doc Id nan</p><hr><p style=\"font-family:verdana; font-size:110%;\">  What <b>is</b> new in the nucleolus?: Workshop <b>on</b> the Nucleolus: New Perspectives  || SHA Doc Id nan</p><hr><p style=\"font-family:verdana; font-size:110%;\">  In the pipeline Derek Lowe's commentary <b>on</b> drug discovery <b>and</b> the pharma industry. <b>An</b> editorially independent blog from the publishers of <b>Science</b> Translational Medicine. All content <b>is</b> Derek’s own, <b>and</b> <b>he</b> does not in any way speak for his employer  || SHA Doc Id nan</p><hr><p style=\"font-family:verdana; font-size:110%;\">  How <b>has</b> research in the last five years changed my clinical practice?  || SHA Doc Id nan</p><hr><p style=\"font-family:verdana; font-size:110%;\">  [The importance of strengthening the ability of fundamental disease prevention <b>and</b> control system from the perspective of the epidemic situation of COVID-19]  || SHA Doc Id nan</p><hr><p style=\"font-family:verdana; font-size:110%;\">  What can early Canadian experience screening for COVID-19 teach us <b>about</b> how to prepare for <b>a</b> pandemic?  || SHA Doc Id nan</p><hr><p style=\"font-family:verdana; font-size:110%;\">  <b>Is</b> the Debate <b>and</b> “Pause” <b>on</b> Experiments That Alter Pathogens with Pandemic Potential Influencing Future Plans of Graduate Students <b>and</b> Postdoctoral Fellows?  || SHA Doc Id bdb0493b6378d05d55db093b3b6ed45cd68d8a37</p><hr>"
            ],
            "text/plain": [
              "<IPython.core.display.HTML object>"
            ]
          },
          "metadata": {
            "tags": []
          }
        }
      ]
    },
    {
      "cell_type": "markdown",
      "metadata": {
        "id": "-SLQvc7kfcWM",
        "colab_type": "text"
      },
      "source": [
        "## Read paper from json file"
      ]
    },
    {
      "cell_type": "code",
      "metadata": {
        "id": "PUnnk63NeDQI",
        "colab_type": "code",
        "colab": {}
      },
      "source": [
        "def read_paper(shaid, body_text):\n",
        "  #if len(shaids) > 0:\n",
        "  #  for id in shaids:\n",
        "  for dir in subdirs:\n",
        "    fname = dir + str(shaid) + '.json'\n",
        "    if os.path.isfile(fname):\n",
        "      f = open(fname)\n",
        "      data_text = json.load(f)\n",
        "      for par in data_text['body_text']:\n",
        "        body_text += par['text']\n",
        "      break\n",
        "  return body_text"
      ],
      "execution_count": 0,
      "outputs": []
    },
    {
      "cell_type": "markdown",
      "metadata": {
        "id": "Byl4lzxGvtpY",
        "colab_type": "text"
      },
      "source": [
        "## Use BERT based summarizer to summarize related documents (abstract and full text)"
      ]
    },
    {
      "cell_type": "code",
      "metadata": {
        "id": "71FnV5Haaqn6",
        "colab_type": "code",
        "colab": {}
      },
      "source": [
        "def summary_text(doc_id):\n",
        "  model = Summarizer()\n",
        "  full_body = ''\n",
        "  shaids = []\n",
        "  for id in doc_id:\n",
        "    body = data_c['abstract'][id]\n",
        "    if not pd.isnull(body):\n",
        "      full_body += body\n",
        "    shaid = data_c['sha'][id]\n",
        "    #if not pd.isnull(shaid):\n",
        "    #  print('Paper found for shaid :', shaid)\n",
        "    #  shaids.append(data_c['sha'][id])\n",
        "    #  full_body += read_paper(shaid, '')\n",
        "  result = model(full_body, min_length=50, max_length=300)\n",
        "  #print('Summary from all the papers available to your search:')\n",
        "  return result"
      ],
      "execution_count": 0,
      "outputs": []
    },
    {
      "cell_type": "markdown",
      "metadata": {
        "id": "zhYcSxILZ6ie",
        "colab_type": "text"
      },
      "source": [
        "Q1. what do we know about corona virus diagnostics and surveillance?"
      ]
    },
    {
      "cell_type": "code",
      "metadata": {
        "id": "l6l4Z35GZ3jG",
        "colab_type": "code",
        "colab": {
          "base_uri": "https://localhost:8080/",
          "height": 170
        },
        "outputId": "90e59b42-f1c6-4e40-ae5b-0191bee32729"
      },
      "source": [
        "display(HTML('''\n",
        "<style>\n",
        "  pre {\n",
        "      white-space: normal;\n",
        "  }\n",
        "</style>\n",
        "'''))\n",
        "ans = summary_text(doc_id)\n",
        "print(ans)"
      ],
      "execution_count": 31,
      "outputs": [
        {
          "output_type": "display_data",
          "data": {
            "text/html": [
              "\n",
              "<style>\n",
              "  pre {\n",
              "      white-space: normal;\n",
              "  }\n",
              "</style>\n"
            ],
            "text/plain": [
              "<IPython.core.display.HTML object>"
            ]
          },
          "metadata": {
            "tags": []
          }
        },
        {
          "output_type": "stream",
          "text": [
            "background: middle east respiratory syndrome coronavirus (mers-cov) was first identified in humans in 2012. a systematic literature review was conducted to synthesize current knowledge and identify critical knowledge gaps. dromedary camels remain the only documented zoonotic source of human infection, but mers-like covs have been detected in bat species globally, as well as in dromedary camels throughout the middle east and africa. there have been few rigorous studies of baseline prevalence, transmission, and spectrum of disease. terms such as “camel exposure” and the epidemiological relationships of cases should be clearly defined and standardized. polymerase chain reaction-based testing has allowed detection of newer agents (e.g. human metapneumovirus, coronavirus hku1 and nl63) as well as improved the ability to detect “old” viral infections such as influenza virus and rhinovirus. they are diligent in treating patients, at the same time, they constantly summarize experience and combine the characteristics of military hospitals. this article will make a proper interpretation in order to understand the guideline better and help guide the diagnosis and treatment of diseases.background: inanimate surfaces have often been described as the source for outbreaks of nosocomial infections.\n"
          ],
          "name": "stdout"
        }
      ]
    },
    {
      "cell_type": "markdown",
      "metadata": {
        "id": "trNUbV2afIr1",
        "colab_type": "text"
      },
      "source": [
        "Q2. What is known about transmission, incubation, and environmental stability?"
      ]
    },
    {
      "cell_type": "code",
      "metadata": {
        "id": "YQ4RWetLaH-k",
        "colab_type": "code",
        "colab": {
          "base_uri": "https://localhost:8080/",
          "height": 136
        },
        "outputId": "c9a66766-c5c4-4de8-9f72-01f8a0dbca5e"
      },
      "source": [
        "display(HTML('''\n",
        "<style>\n",
        "  pre {\n",
        "      white-space: normal;\n",
        "  }\n",
        "</style>\n",
        "'''))\n",
        "ans = summary_text(doc_id)\n",
        "print(ans)"
      ],
      "execution_count": 33,
      "outputs": [
        {
          "output_type": "display_data",
          "data": {
            "text/html": [
              "\n",
              "<style>\n",
              "  pre {\n",
              "      white-space: normal;\n",
              "  }\n",
              "</style>\n"
            ],
            "text/plain": [
              "<IPython.core.display.HTML object>"
            ]
          },
          "metadata": {
            "tags": []
          }
        },
        {
          "output_type": "stream",
          "text": [
            "background: middle east respiratory syndrome coronavirus (mers-cov) was first identified in humans in 2012. a systematic literature review was conducted to synthesize current knowledge and identify critical knowledge gaps. however, despite evidence of camel-to-human mers-cov transmission and cases apparently related to camel contact, the source of many primary cases remains unknown. transmission mechanisms are poorly understood; for health care, this may include environmental contamination. better ways to diagnose viral cap and to integrate detection into management are urgently needed, as well as better treatment options for non-influenza respiratory viral infections.covid-19 has been in epidemic for nearly two months. the prevention and control measures have achieved remarkable results. data sharing in research is widely discussed in the literature; however, there are seemingly no evidence-based incentives that promote data sharing.\n"
          ],
          "name": "stdout"
        }
      ]
    },
    {
      "cell_type": "markdown",
      "metadata": {
        "id": "cTfMg0HZftpx",
        "colab_type": "text"
      },
      "source": [
        "Q3. What do we know about COVID-19 risk factors?"
      ]
    },
    {
      "cell_type": "code",
      "metadata": {
        "id": "s4BlSWhvfL_m",
        "colab_type": "code",
        "colab": {
          "base_uri": "https://localhost:8080/",
          "height": 136
        },
        "outputId": "c9a149b6-6e87-492a-dfbb-10385fea1f14"
      },
      "source": [
        "display(HTML('''\n",
        "<style>\n",
        "  pre {\n",
        "      white-space: normal;\n",
        "  }\n",
        "</style>\n",
        "'''))\n",
        "ans = summary_text(doc_id)\n",
        "print(ans)"
      ],
      "execution_count": 35,
      "outputs": [
        {
          "output_type": "display_data",
          "data": {
            "text/html": [
              "\n",
              "<style>\n",
              "  pre {\n",
              "      white-space: normal;\n",
              "  }\n",
              "</style>\n"
            ],
            "text/plain": [
              "<IPython.core.display.HTML object>"
            ]
          },
          "metadata": {
            "tags": []
          }
        },
        {
          "output_type": "stream",
          "text": [
            "background: middle east respiratory syndrome coronavirus (mers-cov) was first identified in humans in 2012. various potential therapeutics have been identified, but not yet evaluated in human clinical trials. exportations to other countries need not result in rapid large-scale outbreaks, if countries have the political will to rapidly implement countermeasures.background: inanimate surfaces have often been described as the source for outbreaks of nosocomial infections. methods: the literature was systematically reviewed in medline without language restrictions. in addition, cited articles in a report were assessed and standard textbooks on the topic were reviewed. all reports with experimental evidence on the duration of persistence of a nosocomial pathogen on any type of surface were included. persistence of other yeasts, such as torulopsis glabrata, was described to be similar (5 months) or shorter (candida parapsilosis, 14 days). viruses from the gastrointestinal tract, such as astrovirus, hav, polio- or rota virus, persist for approximately 2 months.\n"
          ],
          "name": "stdout"
        }
      ]
    },
    {
      "cell_type": "markdown",
      "metadata": {
        "id": "Bj53PdXdgNwu",
        "colab_type": "text"
      },
      "source": [
        "Q4. What do we know about non-pharmaceutical interventions?"
      ]
    },
    {
      "cell_type": "code",
      "metadata": {
        "id": "VpflTV8Cfxmo",
        "colab_type": "code",
        "colab": {
          "base_uri": "https://localhost:8080/",
          "height": 170
        },
        "outputId": "d9b9447a-718e-422a-e5c8-e9313ce9ac19"
      },
      "source": [
        "display(HTML('''\n",
        "<style>\n",
        "  pre {\n",
        "      white-space: normal;\n",
        "  }\n",
        "</style>\n",
        "'''))\n",
        "ans = summary_text(doc_id)\n",
        "print(ans)"
      ],
      "execution_count": 37,
      "outputs": [
        {
          "output_type": "display_data",
          "data": {
            "text/html": [
              "\n",
              "<style>\n",
              "  pre {\n",
              "      white-space: normal;\n",
              "  }\n",
              "</style>\n"
            ],
            "text/plain": [
              "<IPython.core.display.HTML object>"
            ]
          },
          "metadata": {
            "tags": []
          }
        },
        {
          "output_type": "stream",
          "text": [
            "background: middle east respiratory syndrome coronavirus (mers-cov) was first identified in humans in 2012. a systematic literature review was conducted to synthesize current knowledge and identify critical knowledge gaps. however, despite evidence of camel-to-human mers-cov transmission and cases apparently related to camel contact, the source of many primary cases remains unknown. transmission mechanisms are poorly understood; for health care, this may include environmental contamination. various potential therapeutics have been identified, but not yet evaluated in human clinical trials. coronaviruses will likely continue to emerge, arguing for a unified “one health” approach.in december 2019, health authorities in wuhan, china, identified a cluster of pneumonia cases of unknown aetiology linked to the city's south china seafood market. better ways to diagnose viral cap and to integrate detection into management are urgently needed, as well as better treatment options for non-influenza respiratory viral infections.background: inanimate surfaces have often been described as the source for outbreaks of nosocomial infections. methods: the literature was systematically reviewed in medline without language restrictions. all reports with experimental evidence on the duration of persistence of a nosocomial pathogen on any type of surface were included.\n"
          ],
          "name": "stdout"
        }
      ]
    },
    {
      "cell_type": "markdown",
      "metadata": {
        "id": "xb0bsJQ7gklg",
        "colab_type": "text"
      },
      "source": [
        "Q5. What do we know about virus genetics, origin, and evolution?"
      ]
    },
    {
      "cell_type": "code",
      "metadata": {
        "id": "VJ6lBS81gU4k",
        "colab_type": "code",
        "colab": {
          "base_uri": "https://localhost:8080/",
          "height": 136
        },
        "outputId": "7fa78263-0ad6-4dc3-a9d9-e201229d9ac8"
      },
      "source": [
        "display(HTML('''\n",
        "<style>\n",
        "  pre {\n",
        "      white-space: normal;\n",
        "  }\n",
        "</style>\n",
        "'''))\n",
        "ans = summary_text(doc_id)\n",
        "print(ans)"
      ],
      "execution_count": 39,
      "outputs": [
        {
          "output_type": "display_data",
          "data": {
            "text/html": [
              "\n",
              "<style>\n",
              "  pre {\n",
              "      white-space: normal;\n",
              "  }\n",
              "</style>\n"
            ],
            "text/plain": [
              "<IPython.core.display.HTML object>"
            ]
          },
          "metadata": {
            "tags": []
          }
        },
        {
          "output_type": "stream",
          "text": [
            "background: middle east respiratory syndrome coronavirus (mers-cov) was first identified in humans in 2012. however, despite evidence of camel-to-human mers-cov transmission and cases apparently related to camel contact, the source of many primary cases remains unknown. various potential therapeutics have been identified, but not yet evaluated in human clinical trials. there have been few rigorous studies of baseline prevalence, transmission, and spectrum of disease. polymerase chain reaction-based testing has allowed detection of newer agents (e.g. human metapneumovirus, coronavirus hku1 and nl63) as well as improved the ability to detect “old” viral infections such as influenza virus and rhinovirus. methods: the literature was systematically reviewed in medline without language restrictions. all reports with experimental evidence on the duration of persistence of a nosocomial pathogen on any type of surface were included. viruses from the gastrointestinal tract, such as astrovirus, hav, polio- or rota virus, persist for approximately 2 months.\n"
          ],
          "name": "stdout"
        }
      ]
    },
    {
      "cell_type": "markdown",
      "metadata": {
        "id": "i16Comaeg6WV",
        "colab_type": "text"
      },
      "source": [
        "Q6. What do we know about vaccines and therapeutics?"
      ]
    },
    {
      "cell_type": "code",
      "metadata": {
        "id": "6wgqbtMtgo6L",
        "colab_type": "code",
        "colab": {
          "base_uri": "https://localhost:8080/",
          "height": 119
        },
        "outputId": "403b33c9-2d9e-42bf-fdbc-3a382b5a91a6"
      },
      "source": [
        "display(HTML('''\n",
        "<style>\n",
        "  pre {\n",
        "      white-space: normal;\n",
        "  }\n",
        "</style>\n",
        "'''))\n",
        "ans = summary_text(doc_id)\n",
        "print(ans)"
      ],
      "execution_count": 41,
      "outputs": [
        {
          "output_type": "display_data",
          "data": {
            "text/html": [
              "\n",
              "<style>\n",
              "  pre {\n",
              "      white-space: normal;\n",
              "  }\n",
              "</style>\n"
            ],
            "text/plain": [
              "<IPython.core.display.HTML object>"
            ]
          },
          "metadata": {
            "tags": []
          }
        },
        {
          "output_type": "stream",
          "text": [
            "background: middle east respiratory syndrome coronavirus (mers-cov) was first identified in humans in 2012. a systematic literature review was conducted to synthesize current knowledge and identify critical knowledge gaps. however, despite evidence of camel-to-human mers-cov transmission and cases apparently related to camel contact, the source of many primary cases remains unknown. transmission mechanisms are poorly understood; for health care, this may include environmental contamination. we strongly recommend a shared and accessible registry or database. polymerase chain reaction-based testing has allowed detection of newer agents (e.g. human metapneumovirus, coronavirus hku1 and nl63) as well as improved the ability to detect “old” viral infections such as influenza virus and rhinovirus.\n"
          ],
          "name": "stdout"
        }
      ]
    },
    {
      "cell_type": "markdown",
      "metadata": {
        "id": "wRWfHZSVhHqz",
        "colab_type": "text"
      },
      "source": [
        "Q7. What has been published about ethical and social science considerations?"
      ]
    },
    {
      "cell_type": "code",
      "metadata": {
        "id": "ncjJGEbHhBIV",
        "colab_type": "code",
        "colab": {
          "base_uri": "https://localhost:8080/",
          "height": 170
        },
        "outputId": "c5293627-0f61-4808-e6c3-a6549564900c"
      },
      "source": [
        "display(HTML('''\n",
        "<style>\n",
        "  pre {\n",
        "      white-space: normal;\n",
        "  }\n",
        "</style>\n",
        "'''))\n",
        "ans = summary_text(doc_id)\n",
        "print(ans)"
      ],
      "execution_count": 43,
      "outputs": [
        {
          "output_type": "display_data",
          "data": {
            "text/html": [
              "\n",
              "<style>\n",
              "  pre {\n",
              "      white-space: normal;\n",
              "  }\n",
              "</style>\n"
            ],
            "text/plain": [
              "<IPython.core.display.HTML object>"
            ]
          },
          "metadata": {
            "tags": []
          }
        },
        {
          "output_type": "stream",
          "text": [
            "background: middle east respiratory syndrome coronavirus (mers-cov) was first identified in humans in 2012. various potential therapeutics have been identified, but not yet evaluated in human clinical trials. there have been few rigorous studies of baseline prevalence, transmission, and spectrum of disease. data sharing in research is widely discussed in the literature; however, there are seemingly no evidence-based incentives that promote data sharing. results: only one incentive (using open data badges) has been tested in health and medical research that examined data sharing rates. alongside this has been a robust scientific response, including early publication of the pathogen genome, and rapid development of highly specific diagnostics. this article will review the new knowledge of sars-cov-2 covid-19 acute respiratory disease, and summarise its clinical features.let’s take inventory on the therapies that are being developed for the coronavirus epidemic. clinical trials are a huge time sink – they sort of have to be, in most cases, if they’re going to be any good – and if you’ve already done all that stuff it’s a huge leg up, even if the drug itself is not exactly a perfect fit for the disease. the compound that is most advanced is probably remdesivir from gilead, at right.\n"
          ],
          "name": "stdout"
        }
      ]
    },
    {
      "cell_type": "code",
      "metadata": {
        "id": "vblgJzqhhKq8",
        "colab_type": "code",
        "colab": {}
      },
      "source": [
        ""
      ],
      "execution_count": 0,
      "outputs": []
    }
  ]
}