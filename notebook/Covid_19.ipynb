{
  "nbformat": 4,
  "nbformat_minor": 0,
  "metadata": {
    "colab": {
      "name": "Covid-19.ipynb",
      "provenance": [],
      "collapsed_sections": []
    },
    "kernelspec": {
      "name": "python3",
      "display_name": "Python 3"
    }
  },
  "cells": [
    {
      "cell_type": "markdown",
      "metadata": {
        "id": "mrGgV2YUWIM0",
        "colab_type": "text"
      },
      "source": [
        "## Import libraries"
      ]
    },
    {
      "cell_type": "code",
      "metadata": {
        "id": "0Q5IL5A6gZgr",
        "colab_type": "code",
        "colab": {}
      },
      "source": [
        "%pip install bert-extractive-summarizer\n",
        "%pip install spacy\n",
        "%pip install transformers==2.2.0"
      ],
      "execution_count": 0,
      "outputs": []
    },
    {
      "cell_type": "code",
      "metadata": {
        "id": "SpW40gC8sUWQ",
        "colab_type": "code",
        "colab": {
          "base_uri": "https://localhost:8080/",
          "height": 122
        },
        "outputId": "c617ea50-1b8d-4408-a623-1acccb509c28"
      },
      "source": [
        "from google.colab import drive\n",
        "import os\n",
        "import json\n",
        "import numpy as np\n",
        "import pandas as pd\n",
        "import tensorflow as tf\n",
        "import tensorflow_hub as hub\n",
        "from sklearn import preprocessing\n",
        "import spacy\n",
        "from spacy.lang.en import English\n",
        "from spacy import displacy\n",
        "nlp = spacy.load('en_core_web_sm')\n",
        "from IPython.display import HTML\n",
        "import logging\n",
        "\n",
        "from sklearn.decomposition import PCA\n",
        "from sklearn.manifold import TSNE\n",
        "\n",
        "import plotly.graph_objs as go\n",
        "from plotly.offline import download_plotlyjs, init_notebook_mode, plot, iplot\n",
        "\n",
        "from summarizer import Summarizer\n",
        "\n",
        "logging.getLogger('tensorflow').disabled = True\n",
        "drive.mount('/content/drive')\n",
        "os.chdir(\"/content/drive/My Drive/Colab Notebooks/COVID-2020-03-13\")"
      ],
      "execution_count": 3,
      "outputs": [
        {
          "output_type": "stream",
          "text": [
            "Go to this URL in a browser: https://accounts.google.com/o/oauth2/auth?client_id=947318989803-6bn6qk8qdgf4n4g3pfee6491hc0brc4i.apps.googleusercontent.com&redirect_uri=urn%3aietf%3awg%3aoauth%3a2.0%3aoob&response_type=code&scope=email%20https%3a%2f%2fwww.googleapis.com%2fauth%2fdocs.test%20https%3a%2f%2fwww.googleapis.com%2fauth%2fdrive%20https%3a%2f%2fwww.googleapis.com%2fauth%2fdrive.photos.readonly%20https%3a%2f%2fwww.googleapis.com%2fauth%2fpeopleapi.readonly\n",
            "\n",
            "Enter your authorization code:\n",
            "··········\n",
            "Mounted at /content/drive\n"
          ],
          "name": "stdout"
        }
      ]
    },
    {
      "cell_type": "code",
      "metadata": {
        "id": "2ibHilVzsxlB",
        "colab_type": "code",
        "colab": {}
      },
      "source": [
        "data_c = pd.read_csv('all_sources_metadata_2020-03-13.csv')\n",
        "data_c = data_c[['sha', 'Microsoft Academic Paper ID', 'WHO #Covidence', 'title', 'abstract']]\n",
        "\n",
        "subdirs = ['./biorxiv_medrxiv/biorxiv_medrxiv/', './comm_use_subset/comm_use_subset/', './noncomm_use_subset/noncomm_use_subset/',\n",
        "           './pmc_custom_license/pmc_custom_license/']"
      ],
      "execution_count": 0,
      "outputs": []
    },
    {
      "cell_type": "markdown",
      "metadata": {
        "id": "CtfPOQgaUhvf",
        "colab_type": "text"
      },
      "source": [
        "## Keep articles that is related to corona virus"
      ]
    },
    {
      "cell_type": "code",
      "metadata": {
        "id": "L-zoD8cOtmLP",
        "colab_type": "code",
        "colab": {
          "base_uri": "https://localhost:8080/",
          "height": 122
        },
        "outputId": "c2d90cde-1bfd-4007-faf6-c9a0d03df130"
      },
      "source": [
        "keywords = ['corona', 'covid', 'covid-19', 'covid-2019', 'coronavirus', 'ncov', 'sars-cov-2', 'ncov-2019', '2019-ncov']\n",
        "data_c = data_c[data_c['title'].notna()]\n",
        "data_c['abstract'] = data_c['abstract'].str.lower()\n",
        "data_c['flagCol'] = np.where(data_c.abstract.str.contains('|'.join(keywords)),1,0)\n",
        "data_c = data_c[data_c['flagCol'] == 1]\n",
        "sentences = data_c['title'].tolist()\n",
        "data_c['title'][0:5].tolist()"
      ],
      "execution_count": 6,
      "outputs": [
        {
          "output_type": "execute_result",
          "data": {
            "text/plain": [
              "['Angiotensin-converting enzyme 2 (ACE2) as a SARS-CoV-2 receptor: molecular mechanisms and potential therapeutic target',\n",
              " 'Comparative genetic analysis of the novel coronavirus (2019-nCoV/SARS-CoV-2) receptor ACE2 in different populations',\n",
              " 'Incubation Period and Other Epidemiological Characteristics of 2019 Novel Coronavirus Infections with Right Truncation: A Statistical Analysis of Publicly Available Case Data',\n",
              " 'Characteristics of and Public Health Responses to the Coronavirus Disease 2019 Outbreak in China',\n",
              " 'Imaging changes in severe COVID-19 pneumonia']"
            ]
          },
          "metadata": {
            "tags": []
          },
          "execution_count": 6
        }
      ]
    },
    {
      "cell_type": "code",
      "metadata": {
        "id": "gDGb8pDgwx7d",
        "colab_type": "code",
        "colab": {
          "base_uri": "https://localhost:8080/",
          "height": 34
        },
        "outputId": "89c1ce7c-9d0a-4b43-c130-b46f052fa5c6"
      },
      "source": [
        "print(f'Number of Corona Virus related documents {len(sentences)}')"
      ],
      "execution_count": 5,
      "outputs": [
        {
          "output_type": "stream",
          "text": [
            "Number of Corona Virus related documents 8061\n"
          ],
          "name": "stdout"
        }
      ]
    },
    {
      "cell_type": "markdown",
      "metadata": {
        "id": "QqTnQC7jgjZZ",
        "colab_type": "text"
      },
      "source": [
        "## Import ELMO from tensorhub"
      ]
    },
    {
      "cell_type": "code",
      "metadata": {
        "id": "xgtOuLp5t1yO",
        "colab_type": "code",
        "colab": {
          "base_uri": "https://localhost:8080/",
          "height": 85
        },
        "outputId": "38efb436-711e-4cc5-a886-d18f1643e224"
      },
      "source": [
        "url = \"https://tfhub.dev/google/elmo/2\"\n",
        "embed = hub.Module(url)"
      ],
      "execution_count": 8,
      "outputs": [
        {
          "output_type": "stream",
          "text": [
            "INFO:absl:Using /tmp/tfhub_modules to cache modules.\n",
            "INFO:absl:Downloading TF-Hub Module 'https://tfhub.dev/google/elmo/2'.\n",
            "INFO:absl:Downloaded https://tfhub.dev/google/elmo/2, Total size: 357.40MB\n",
            "INFO:absl:Downloaded TF-Hub Module 'https://tfhub.dev/google/elmo/2'.\n"
          ],
          "name": "stderr"
        }
      ]
    },
    {
      "cell_type": "markdown",
      "metadata": {
        "id": "8pjERoA_gpys",
        "colab_type": "text"
      },
      "source": [
        "## Clean text"
      ]
    },
    {
      "cell_type": "code",
      "metadata": {
        "id": "lgf4K6UeuK1L",
        "colab_type": "code",
        "colab": {}
      },
      "source": [
        "cleaned_sent = []\n",
        "for text in sentences:\n",
        "  text = text.lower().replace('\\n', ' ').replace('\\t', ' ')\n",
        "  text = ' '.join(text.split())\n",
        "  cleaned_sent.append(text)"
      ],
      "execution_count": 0,
      "outputs": []
    },
    {
      "cell_type": "code",
      "metadata": {
        "id": "SVpdoVvpwcns",
        "colab_type": "code",
        "colab": {
          "base_uri": "https://localhost:8080/",
          "height": 122
        },
        "outputId": "f67e3c4d-ee50-458e-b760-144a691dc530"
      },
      "source": [
        "cleaned_sent[0:5]"
      ],
      "execution_count": 11,
      "outputs": [
        {
          "output_type": "execute_result",
          "data": {
            "text/plain": [
              "['angiotensin-converting enzyme 2 (ace2) as a sars-cov-2 receptor: molecular mechanisms and potential therapeutic target',\n",
              " 'comparative genetic analysis of the novel coronavirus (2019-ncov/sars-cov-2) receptor ace2 in different populations',\n",
              " 'incubation period and other epidemiological characteristics of 2019 novel coronavirus infections with right truncation: a statistical analysis of publicly available case data',\n",
              " 'characteristics of and public health responses to the coronavirus disease 2019 outbreak in china',\n",
              " 'imaging changes in severe covid-19 pneumonia']"
            ]
          },
          "metadata": {
            "tags": []
          },
          "execution_count": 11
        }
      ]
    },
    {
      "cell_type": "markdown",
      "metadata": {
        "id": "5kajbwqtZS7p",
        "colab_type": "text"
      },
      "source": [
        "## Creating embeddings for topics with ELMO"
      ]
    },
    {
      "cell_type": "code",
      "metadata": {
        "id": "Bk4UHCriw6pX",
        "colab_type": "code",
        "colab": {
          "base_uri": "https://localhost:8080/",
          "height": 51
        },
        "outputId": "3ee68d4e-f0ea-4fd8-8348-013bf16e31c7"
      },
      "source": [
        "x = []\n",
        "for i in range(0, 800, 400): #len(sentences)\n",
        "  print(f'Creating embeddings for {i} to {i+400}')\n",
        "  embeddings = embed(\n",
        "      cleaned_sent[i:i+400],\n",
        "      signature=\"default\",\n",
        "      as_dict=True)[\"default\"]\n",
        "  with tf.Session() as sess:\n",
        "    sess.run(tf.global_variables_initializer())\n",
        "    sess.run(tf.tables_initializer())\n",
        "    x.append(sess.run(embeddings))"
      ],
      "execution_count": 12,
      "outputs": [
        {
          "output_type": "stream",
          "text": [
            "Creating embeddings for 0 to 400\n",
            "Creating embeddings for 400 to 800\n"
          ],
          "name": "stdout"
        }
      ]
    },
    {
      "cell_type": "markdown",
      "metadata": {
        "id": "nFvOwHQOvXsv",
        "colab_type": "text"
      },
      "source": [
        "## PCA and t-SNE to visualize the topics"
      ]
    },
    {
      "cell_type": "code",
      "metadata": {
        "id": "1fsh31cdxLse",
        "colab_type": "code",
        "colab": {}
      },
      "source": [
        "x = np.vstack(x)\n",
        "pca = PCA(n_components=50)\n",
        "y = pca.fit_transform(x)\n",
        "y = TSNE(n_components=2).fit_transform(y)"
      ],
      "execution_count": 0,
      "outputs": []
    },
    {
      "cell_type": "code",
      "metadata": {
        "id": "jyjPyGWcxicO",
        "colab_type": "code",
        "colab": {
          "base_uri": "https://localhost:8080/",
          "height": 17
        },
        "outputId": "5b9c6eb8-c70d-40d5-ee7d-b7f8e05f9b7b"
      },
      "source": [
        "init_notebook_mode(connected=True)\n",
        "data = [\n",
        "    go.Scatter(\n",
        "        x=[i[0] for i in y],\n",
        "        y=[i[1] for i in y],\n",
        "        mode='markers',\n",
        "        text=[i for i in sentences],\n",
        "    marker=dict(\n",
        "        size=2,\n",
        "        color = [len(i) for i in sentences],\n",
        "        opacity= 0.8,\n",
        "        colorscale='Viridis',\n",
        "        showscale=False\n",
        "    )\n",
        "    )\n",
        "]\n",
        "layout = go.Layout()\n",
        "layout = dict(\n",
        "              yaxis = dict(zeroline = False),\n",
        "              xaxis = dict(zeroline = False)\n",
        "             )\n",
        "fig = go.Figure(data=data, layout=layout)\n",
        "file = plot(fig, filename='COVID Paper encode.html')\n",
        "\n",
        "from google.colab import files\n",
        "files.download('COVID Paper encode.html') "
      ],
      "execution_count": 12,
      "outputs": [
        {
          "output_type": "display_data",
          "data": {
            "text/html": [
              "        <script type=\"text/javascript\">\n",
              "        window.PlotlyConfig = {MathJaxConfig: 'local'};\n",
              "        if (window.MathJax) {MathJax.Hub.Config({SVG: {font: \"STIX-Web\"}});}\n",
              "        if (typeof require !== 'undefined') {\n",
              "        require.undef(\"plotly\");\n",
              "        requirejs.config({\n",
              "            paths: {\n",
              "                'plotly': ['https://cdn.plot.ly/plotly-latest.min']\n",
              "            }\n",
              "        });\n",
              "        require(['plotly'], function(Plotly) {\n",
              "            window._Plotly = Plotly;\n",
              "        });\n",
              "        }\n",
              "        </script>\n",
              "        "
            ]
          },
          "metadata": {
            "tags": []
          }
        }
      ]
    },
    {
      "cell_type": "markdown",
      "metadata": {
        "id": "Px1pEhekvjG3",
        "colab_type": "text"
      },
      "source": [
        "## Enter search queries to find most related papers"
      ]
    },
    {
      "cell_type": "code",
      "metadata": {
        "id": "g119VQQWzT2E",
        "colab_type": "code",
        "colab": {
          "base_uri": "https://localhost:8080/",
          "height": 561
        },
        "cellView": "form",
        "outputId": "c7bb5ed5-595d-4704-dad5-7af02d5bfd02"
      },
      "source": [
        "#@title Find most related articles\n",
        "#@markdown Enter a set of words to find matching sentences. 'results_returned' can beused to modify the number of matching sentences retured. To view the code behind this cell, use the menu in the top right to unhide...\n",
        "query = \"what do we know about corona virus diagnostics and surveillance\" #@param {type:\"string\"}\n",
        "results_returned = \"10\" #@param [1, 2, 3, 4, 5, 10]\n",
        "\n",
        "from sklearn.metrics.pairwise import cosine_similarity\n",
        "data_c.reset_index(drop=True, inplace=True)\n",
        "embeddings2 = embed(\n",
        "    [query],\n",
        "    signature=\"default\",\n",
        "    as_dict=True)[\"default\"]\n",
        "\n",
        "with tf.Session() as sess:\n",
        "  sess.run(tf.global_variables_initializer())\n",
        "  sess.run(tf.tables_initializer())\n",
        "  search_vect = sess.run(embeddings2)\n",
        "  \n",
        "cosine_similarities = pd.Series(cosine_similarity(search_vect, x).flatten())\n",
        "doc_id = []\n",
        "output =\"\"\n",
        "for k,j in cosine_similarities.nlargest(int(results_returned)).iteritems():\n",
        "  output +='<p style=\"font-family:verdana; font-size:110%;\"> '\n",
        "  for i in sentences[k].split():\n",
        "    if i.lower() in query:\n",
        "      output += \" <b>\"+str(i)+\"</b>\"\n",
        "    else:\n",
        "      output += \" \"+str(i)\n",
        "  output += \"  || SHA Doc Id \" + str(data_c['sha'][k]) #+ str(k)\n",
        "  output += \"</p><hr>\"\n",
        "  doc_id.append(k)\n",
        "    \n",
        "output = '<h3>Results:</h3>'+output\n",
        "display(HTML(output))"
      ],
      "execution_count": 33,
      "outputs": [
        {
          "output_type": "display_data",
          "data": {
            "text/html": [
              "<h3>Results:</h3><p style=\"font-family:verdana; font-size:110%;\">  The next big threat to global health? 2019 novel coronavirus (2019-nCoV): <b>What</b> advice can <b>we</b> give to travellers? – Interim recommendations January 2020, from the Latin-American society for Travel Medicine (SLAMVI)  || SHA Doc Id nan</p><hr><p style=\"font-family:verdana; font-size:110%;\">  Scientists are racing to model the next moves of <b>a</b> coronavirus that's still hard to predict | Science | AAAS  || SHA Doc Id nan</p><hr><p style=\"font-family:verdana; font-size:110%;\">  Audio Interview: <b>What</b> Clinicians Need to <b>Know</b> in Diagnosing <b>and</b> Treating Covid-19  || SHA Doc Id nan</p><hr><p style=\"font-family:verdana; font-size:110%;\">  Emergence of <b>a</b> Novel Coronavirus Disease (COVID-19) <b>and</b> the Importance of <b>Diagnostic</b> Testing: Why Partnership between Clinical Laboratories, Public Health Agencies, <b>and</b> Industry Is Essential to Control the Outbreak  || SHA Doc Id nan</p><hr><p style=\"font-family:verdana; font-size:110%;\">  Coronavirus outbreaks: prevention <b>and</b> management recommendationsAB - <b>What</b> role can pharmacists play? The International Pharmaceutical Federation is emphasizing the active role of community <b>and</b> hospital pharmacists can play in preventing the spread of COVID-19 [17]. Pharmacists are often <b>a</b> reliable <b>and</b> first point of contact for individuals having concerns <b>or</b> needing information <b>and</b> advice regarding ailments. Moreover, pharmacists are readily available <b>at</b> community pharmacies <b>and</b> hospital <b>and</b> accessible to the general population. Essential responsibilities of pharmacists include: having appropriate medicinal products in stock; promoting proper handwashing to prevent disease; controlling in-hospital infection; <b>and</b> providing patient care <b>and</b> support. Pharmacists also play <b>a</b> crucial role in the prevention, early detection of certain types of new cases <b>and</b> referring suspected cases to the relevant healthcare authorities [17].JO - Drugs & Therapy Perspectives  || SHA Doc Id nan</p><hr><p style=\"font-family:verdana; font-size:110%;\">  SARS-CoV, MERS-CoV <b>and</b> <b>now</b> the 2019-novel CoV: Have <b>we</b> investigated enough <b>about</b> coronaviruses? – <b>A</b> bibliometric analysis  || SHA Doc Id nan</p><hr><p style=\"font-family:verdana; font-size:110%;\">  The SARS, MERS <b>and</b> novel coronavirus (COVID-19) epidemics, the newest <b>and</b> biggest global health threats: <b>what</b> lessons have <b>we</b> learned?  || SHA Doc Id nan</p><hr><p style=\"font-family:verdana; font-size:110%;\">  From the frontlines of COVID-19 – How prepared are <b>we</b> as obstetricians: <b>a</b> commentary  || SHA Doc Id nan</p><hr><p style=\"font-family:verdana; font-size:110%;\">  From Hendra to Wuhan: <b>what</b> has been learned in responding to emerging zoonotic viruses  || SHA Doc Id nan</p><hr><p style=\"font-family:verdana; font-size:110%;\">  The psychological impact of quarantine <b>and</b> how to reduce it: rapid review of the evidence  || SHA Doc Id nan</p><hr>"
            ],
            "text/plain": [
              "<IPython.core.display.HTML object>"
            ]
          },
          "metadata": {
            "tags": []
          }
        }
      ]
    },
    {
      "cell_type": "markdown",
      "metadata": {
        "id": "-SLQvc7kfcWM",
        "colab_type": "text"
      },
      "source": [
        "## Read paper from json file"
      ]
    },
    {
      "cell_type": "code",
      "metadata": {
        "id": "PUnnk63NeDQI",
        "colab_type": "code",
        "colab": {}
      },
      "source": [
        "def read_paper(shaid, body_text):\n",
        "  #if len(shaids) > 0:\n",
        "  #  for id in shaids:\n",
        "  for dir in subdirs:\n",
        "    fname = dir + str(shaid) + '.json'\n",
        "    print(fname)\n",
        "    if os.path.isfile(fname):\n",
        "      f = open(fname)\n",
        "      data_text = json.load(f)\n",
        "      for par in data_text['body_text']:\n",
        "        body_text += par['text']\n",
        "      break\n",
        "  return body_text"
      ],
      "execution_count": 0,
      "outputs": []
    },
    {
      "cell_type": "markdown",
      "metadata": {
        "id": "Byl4lzxGvtpY",
        "colab_type": "text"
      },
      "source": [
        "## BERT to summarize related documents (abstract and full text)"
      ]
    },
    {
      "cell_type": "code",
      "metadata": {
        "id": "71FnV5Haaqn6",
        "colab_type": "code",
        "colab": {
          "base_uri": "https://localhost:8080/",
          "height": 105
        },
        "outputId": "31fb7330-0267-47d7-973b-c1c08c215525"
      },
      "source": [
        "model = Summarizer()\n",
        "full_body = ''\n",
        "shaids = []\n",
        "for id in doc_id:\n",
        "  body = data_c['abstract'][id]\n",
        "  if not pd.isnull(body):\n",
        "    full_body += body\n",
        "  shaid = data_c['sha'][id]\n",
        "  if not pd.isnull(shaid):\n",
        "    print('Paper found for shaid :', shaid)\n",
        "    shaids.append(data_c['sha'][id])\n",
        "    full_body += read_paper(shaid, '')\n",
        "result = model(full_body, min_length=50)\n",
        "print('Summary from all the papers available to your search:')\n",
        "print(result)"
      ],
      "execution_count": 31,
      "outputs": [
        {
          "output_type": "stream",
          "text": [
            "100%|██████████| 362/362 [00:00<00:00, 72068.45B/s]\n",
            "100%|██████████| 1344997306/1344997306 [00:24<00:00, 55442680.71B/s]\n",
            "100%|██████████| 231508/231508 [00:00<00:00, 6031598.20B/s]\n"
          ],
          "name": "stderr"
        },
        {
          "output_type": "stream",
          "text": [
            "backgroundin late december, 2019, patients presenting with viral pneumonia due to an unidentified microbial agent were reported in wuhan, china. the genetic analyses predict bats as the most probable source of 2019-ncov though further investigations needed to confirm the origin of the novel virus. our objectives were to characterize the genetic relationships of the 2019-ncov and to search for putative recombination within the subgenus of sarbecovirus. mers-cov is prone to cause endemic disease in the middle east, with several dozen spillover infections to other continents. these results add more evidence to the existing belief that bats are the original source of mers-cov and suggest that bcd26s in many species can mediate the entry of the virus, which has significant implications for the surveillance and control of mers-cov infection.importance in this study, we found that bat cd26s (bcd26s) from different species exhibit large diversities, especially in the region responsible for binding to the receptor binding domain (rbd) of middle east respiratory syndrome coronavirus (mers-cov). coronaviruses (covs) are common human and animal pathogens that can transmit zoonotically and cause severe respiratory disease syndromes. cov infection requires spike proteins, which bind viruses to host cell receptors and catalyze virus-cell membrane fusion. as this bivalent binding may enable broad zoonotic cov infection, we aimed to identify roles for each receptor in distinct infection stages. however, sialic acids sufficiently facilitated the later stages of virus spread through cell-cell membrane fusion, without requiring protein receptors. this zoonotic transmission uses spike proteins, which bind covs to cells with two receptor-binding domains. 36, 24 and 12 h prior to infection, time of infection (co-administration of tlr ligands and avian ibv) and 12 and 24 h post-ibv infection. further analysis showed that tlr ligands induced ifn-γ, il-1β and ifn stimulated genes viz.\n"
          ],
          "name": "stdout"
        }
      ]
    }
  ]
}